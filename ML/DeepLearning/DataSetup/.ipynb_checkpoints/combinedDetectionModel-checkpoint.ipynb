{
 "cells": [
  {
   "cell_type": "code",
   "execution_count": null,
   "metadata": {},
   "outputs": [],
   "source": [
    "import torch\n",
    "import torchvision.ops as ops"
   ]
  },
  {
   "cell_type": "code",
   "execution_count": null,
   "metadata": {},
   "outputs": [],
   "source": [
    "class CombinedDetectionModel:\n",
    "    def __init__(self, models):\n",
    "    self.models = models\n",
    "    for model in self.models:\n",
    "        # set all models to evaluation mode \n",
    "        model.eval()\n",
    "    \n",
    "    def forward(self, input_image):\n",
    "        combined_boxes = []\n",
    "        combined_scores = []\n",
    "        \n",
    "        # Get detections from each model\n",
    "        with torch.no_grad():\n",
    "            for model in self.models:\n",
    "                output = model(input_image)\n",
    "                boxes, scores = output\n",
    "\n",
    "                # Combine the boxes and scores\n",
    "                combined_boxes.extend(boxes) \n",
    "                combined_scores.extend(scores)\n",
    "        \n",
    "        # Convert to tensors\n",
    "        combined_boxes = torch.stack(combined_boxes)\n",
    "        combined_scores = torch.stack(combined_scores)\n",
    "        \n",
    "        # Perform Non-Maximum Supression (ensures no bounding boxes of the same label overlap)\n",
    "        nms_indices = ops.nms(combined_boxes, combined_scores, iou_threshold=0.5)\n",
    "        final_boxes = combined_boxes[nms_indices]\n",
    "        final_scores = combined_scores[nms_indices]\n",
    "        \n",
    "        confidence_threshold = 0.5\n",
    "        keep_indices = final_scores > confidence_threshold\n",
    "        final_boxes = final_boxes[keep_indices]\n",
    "        final_scores = final_scores[keep_indices]\n",
    "        \n",
    "        return final_boxes, final_scores"
   ]
  },
  {
   "cell_type": "code",
   "execution_count": null,
   "metadata": {},
   "outputs": [],
   "source": [
    "# combined_model = CombinedDetectionModel([model1, model2])"
   ]
  },
  {
   "cell_type": "code",
   "execution_count": null,
   "metadata": {},
   "outputs": [],
   "source": [
    "model1 = \"model_epoch_1.pth\"\n",
    "model2 = "
   ]
  }
 ],
 "metadata": {
  "kernelspec": {
   "display_name": "Python 3 (ipykernel)",
   "language": "python",
   "name": "python3"
  },
  "language_info": {
   "codemirror_mode": {
    "name": "ipython",
    "version": 3
   },
   "file_extension": ".py",
   "mimetype": "text/x-python",
   "name": "python",
   "nbconvert_exporter": "python",
   "pygments_lexer": "ipython3",
   "version": "3.8.19"
  }
 },
 "nbformat": 4,
 "nbformat_minor": 4
}
