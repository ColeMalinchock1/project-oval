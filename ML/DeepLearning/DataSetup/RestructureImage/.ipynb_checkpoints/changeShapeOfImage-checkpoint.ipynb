{
 "cells": [
  {
   "cell_type": "code",
   "execution_count": 2,
   "id": "15814bd9-9496-447b-b4d3-aa050c751231",
   "metadata": {},
   "outputs": [],
   "source": [
    "from PIL import Image"
   ]
  },
  {
   "cell_type": "code",
   "execution_count": 5,
   "id": "a6cd07f8-5b3f-4033-b410-d3b4250517d1",
   "metadata": {},
   "outputs": [],
   "source": [
    "def change_image_size(input_path, output_path, new_size):\n",
    "    try:\n",
    "        # Open the image\n",
    "        with Image.open(input_path) as img:\n",
    "            # Resize the image\n",
    "            resized_img = img.resize(new_size)\n",
    "            \n",
    "            # Save the resized image\n",
    "            resized_img.save(output_path)\n",
    "            \n",
    "            print(f\"Image reshaped and saved to {output_path}\")\n",
    "    except Exception as e:\n",
    "        print(f\"An error occurred: {e}\")"
   ]
  },
  {
   "cell_type": "code",
   "execution_count": 7,
   "id": "7bf2fe6d-6879-40bc-9a54-714d4ec7d387",
   "metadata": {},
   "outputs": [
    {
     "name": "stdout",
     "output_type": "stream",
     "text": [
      "An error occurred: [Errno 2] No such file or directory: '/home/turtle/gitprojects/project-oval/ML/DeepLearning/DataSetup/RestructureImage/test_image1.jpg'\n"
     ]
    }
   ],
   "source": [
    "input_image = \"../test_image1.jpg\"\n",
    "output_image = \"../RestructureImage\"\n",
    "new_size = (320, 240)  # New width and height\n",
    "\n",
    "change_image_size(input_image, output_image, new_size)"
   ]
  }
 ],
 "metadata": {
  "kernelspec": {
   "display_name": "Python 3 (ipykernel)",
   "language": "python",
   "name": "python3"
  },
  "language_info": {
   "codemirror_mode": {
    "name": "ipython",
    "version": 3
   },
   "file_extension": ".py",
   "mimetype": "text/x-python",
   "name": "python",
   "nbconvert_exporter": "python",
   "pygments_lexer": "ipython3",
   "version": "3.8.19"
  }
 },
 "nbformat": 4,
 "nbformat_minor": 5
}
