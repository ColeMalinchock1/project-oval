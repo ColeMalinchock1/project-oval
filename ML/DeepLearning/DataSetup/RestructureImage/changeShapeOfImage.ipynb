{
 "cells": [
  {
   "cell_type": "code",
   "execution_count": 24,
   "id": "15814bd9-9496-447b-b4d3-aa050c751231",
   "metadata": {},
   "outputs": [],
   "source": [
    "from PIL import Image\n",
    "import cv2\n",
    "import os \n",
    "import json\n",
    "import random "
   ]
  },
  {
   "cell_type": "code",
   "execution_count": 17,
   "id": "a6cd07f8-5b3f-4033-b410-d3b4250517d1",
   "metadata": {},
   "outputs": [],
   "source": [
    "def resize_images_in_folder(folder_path, target_size):\n",
    "\n",
    "    for filename in os.listdir(folder_path):\n",
    "        # Construct the full path\n",
    "        file_path = os.path.join(folder_path, filename)\n",
    "\n",
    "        if filename.endswith((\".jpg\")):\n",
    "            try:\n",
    "                with Image.open(file_path) as img:\n",
    "                    # Resize the image\n",
    "                    img_resized = img.resize(target_size)\n",
    "\n",
    "                    # Override the resized img\n",
    "                    img_resized.save(file_path)\n",
    "\n",
    "            except Exception as e:\n",
    "                print(\"ERRROR\")"
   ]
  },
  {
   "cell_type": "code",
   "execution_count": 18,
   "id": "7bf2fe6d-6879-40bc-9a54-714d4ec7d387",
   "metadata": {},
   "outputs": [
    {
     "name": "stdout",
     "output_type": "stream",
     "text": [
      "Your task has been completed MASTER\n"
     ]
    }
   ],
   "source": [
    "path_to_folder = \"../university_annotations/train/train_images\"\n",
    "target_size = (320, 240)\n",
    "resize_images_in_folder(path_to_folder, target_size)\n",
    "print(\"Your task has been completed MASTER\")"
   ]
  },
  {
   "cell_type": "code",
   "execution_count": 19,
   "id": "81d8311e-5955-45a5-a631-7d98c02ec9dd",
   "metadata": {},
   "outputs": [
    {
     "data": {
      "text/plain": [
       "(240, 320, 3)"
      ]
     },
     "execution_count": 19,
     "metadata": {},
     "output_type": "execute_result"
    }
   ],
   "source": [
    "# Selecting a random image to see if has the shape required\n",
    "random_file = random.choice(os.listdir(path_to_folder))\n",
    "random_file_path = os.path.join(path_to_folder, random_file)\n",
    "image = cv2.imread(random_file_path)\n",
    "image.shape"
   ]
  },
  {
   "cell_type": "code",
   "execution_count": 28,
   "id": "b26bcc44-2584-4419-bcf2-903eba3e334c",
   "metadata": {},
   "outputs": [
    {
     "name": "stdout",
     "output_type": "stream",
     "text": [
      "Annotations have been refactored and saved to ../university_annotations/train/new_annotations.coco.json\n"
     ]
    }
   ],
   "source": [
    "# Changing the shape inside the coco dataset \n",
    "coco_json_path = \"../university_annotations/train/_annotations.coco.json\"\n",
    "new_coco_json_path = \"../university_annotations/train/new_annotations.coco.json\"\n",
    "\n",
    "# Target size (320, 240)\n",
    "target_width = 320\n",
    "target_height = 240\n",
    "\n",
    "# Load the original COCO dataset\n",
    "with open(coco_json_path, 'r') as f:\n",
    "    coco_data = json.load(f)\n",
    "\n",
    "# Function to adjust annotations for the new image size\n",
    "def adjust_annotations(coco_data, target_width, target_height):\n",
    "    for image_info in coco_data['images']:\n",
    "        original_width, original_height = image_info['width'], image_info['height']\n",
    "        \n",
    "        # Update the image size in the COCO data\n",
    "        image_info['width'], image_info['height'] = target_width, target_height\n",
    "\n",
    "        # Calculate scaling factors\n",
    "        x_scale = target_width / original_width\n",
    "        y_scale = target_height / original_height\n",
    "\n",
    "        # Adjust the annotations for the resized image\n",
    "        for annotation in coco_data['annotations']:\n",
    "            if annotation['image_id'] == image_info['id']:\n",
    "                bbox = annotation['bbox']\n",
    "                \n",
    "                # Adjust the bounding box\n",
    "                bbox[0] *= x_scale  # x coordinate\n",
    "                bbox[1] *= y_scale  # y coordinate\n",
    "                bbox[2] *= x_scale  # width\n",
    "                bbox[3] *= y_scale  # height\n",
    "                \n",
    "    return coco_data\n",
    "\n",
    "# Adjust the annotations for the new image size\n",
    "new_coco_data = adjust_annotations(coco_data, target_width, target_height)\n",
    "\n",
    "# Save the new COCO dataset\n",
    "with open(new_coco_json_path, 'w') as f:\n",
    "    json.dump(new_coco_data, f)\n",
    "\n",
    "print(f\"Annotations have been refactored and saved to {new_coco_json_path}\")\n"
   ]
  },
  {
   "cell_type": "code",
   "execution_count": 32,
   "id": "64758a10-2f86-4165-b367-1e59d4c9fab2",
   "metadata": {},
   "outputs": [
    {
     "name": "stdout",
     "output_type": "stream",
     "text": [
      "Image with bounding boxes saved to ../university_annotations/train/labeled_image.jpg\n"
     ]
    }
   ],
   "source": [
    "# Paths\n",
    "images_folder = '../university_annotations/train/train_images'\n",
    "coco_json_path = '../university_annotations/train/new_annotations.coco.json'\n",
    "output_image_path = '../university_annotations/train/labeled_image.jpg'\n",
    "\n",
    "# Load the COCO dataset\n",
    "with open(coco_json_path, 'r') as f:\n",
    "    coco_data = json.load(f)\n",
    "\n",
    "# Select a random image\n",
    "random_image_info = random.choice(coco_data['images'])\n",
    "random_image_filename = random_image_info['file_name']\n",
    "random_image_path = os.path.join(images_folder, random_image_filename)\n",
    "\n",
    "# Load the image\n",
    "image = cv2.imread(random_image_path)\n",
    "\n",
    "# Get the annotations for the selected image\n",
    "image_id = random_image_info['id']\n",
    "annotations = [ann for ann in coco_data['annotations'] if ann['image_id'] == image_id]\n",
    "\n",
    "# Load category names\n",
    "categories = {cat['id']: cat['name'] for cat in coco_data['categories']}\n",
    "\n",
    "# Draw bounding boxes and labels\n",
    "for annotation in annotations:\n",
    "    bbox = annotation['bbox']\n",
    "    category_id = annotation['category_id']\n",
    "    label = categories[category_id]\n",
    "    \n",
    "    # Convert bbox to integers\n",
    "    x, y, w, h = map(int, bbox)\n",
    "    \n",
    "    # Draw the bounding box\n",
    "    cv2.rectangle(image, (x, y), (x + w, y + h), (0, 255, 0), 2)\n",
    "    \n",
    "    # Put the label above the bounding box\n",
    "    cv2.putText(image, label, (x, y - 10), cv2.FONT_HERSHEY_SIMPLEX, 0.9, (255, 0, 0), 2)\n",
    "\n",
    "# Save the result to a file\n",
    "cv2.imwrite(output_image_path, image)\n",
    "\n",
    "print(f\"Image with bounding boxes saved to {output_image_path}\")\n"
   ]
  }
 ],
 "metadata": {
  "kernelspec": {
   "display_name": "Python 3 (ipykernel)",
   "language": "python",
   "name": "python3"
  },
  "language_info": {
   "codemirror_mode": {
    "name": "ipython",
    "version": 3
   },
   "file_extension": ".py",
   "mimetype": "text/x-python",
   "name": "python",
   "nbconvert_exporter": "python",
   "pygments_lexer": "ipython3",
   "version": "3.8.19"
  }
 },
 "nbformat": 4,
 "nbformat_minor": 5
}
