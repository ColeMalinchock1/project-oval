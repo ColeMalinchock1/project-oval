{
 "cells": [
  {
   "cell_type": "code",
   "execution_count": 10,
   "id": "15814bd9-9496-447b-b4d3-aa050c751231",
   "metadata": {},
   "outputs": [],
   "source": [
    "from PIL import Image\n",
    "import cv2"
   ]
  },
  {
   "cell_type": "code",
   "execution_count": 5,
   "id": "a6cd07f8-5b3f-4033-b410-d3b4250517d1",
   "metadata": {},
   "outputs": [],
   "source": [
    "def change_image_size(input_path, output_path, new_size):\n",
    "    try:\n",
    "        # Open the image\n",
    "        with Image.open(input_path) as img:\n",
    "            # Resize the image\n",
    "            resized_img = img.resize(new_size)\n",
    "            \n",
    "            # Save the resized image\n",
    "            resized_img.save(output_path)\n",
    "            \n",
    "            print(f\"Image reshaped and saved to {output_path}\")\n",
    "    except Exception as e:\n",
    "        print(f\"An error occurred: {e}\")"
   ]
  },
  {
   "cell_type": "code",
   "execution_count": 9,
   "id": "7bf2fe6d-6879-40bc-9a54-714d4ec7d387",
   "metadata": {},
   "outputs": [
    {
     "name": "stdout",
     "output_type": "stream",
     "text": [
      "Image reshaped and saved to ../RestructureImage/output.jpg\n"
     ]
    }
   ],
   "source": [
    "input_image = \"../test_image1.jpg\"\n",
    "output_image = \"../RestructureImage/output.jpg\"\n",
    "new_size = (320, 240)  # New width and height\n",
    "\n",
    "change_image_size(input_image, output_image, new_size)"
   ]
  },
  {
   "cell_type": "code",
   "execution_count": 12,
   "id": "81d8311e-5955-45a5-a631-7d98c02ec9dd",
   "metadata": {},
   "outputs": [
    {
     "name": "stderr",
     "output_type": "stream",
     "text": [
      "[ WARN:0@79.736] global loadsave.cpp:241 findDecoder imread_('path/to/your/image.jpg'): can't open/read file: check file path/integrity\n"
     ]
    },
    {
     "ename": "AttributeError",
     "evalue": "'NoneType' object has no attribute 'shape'",
     "output_type": "error",
     "traceback": [
      "\u001b[0;31m---------------------------------------------------------------------------\u001b[0m",
      "\u001b[0;31mAttributeError\u001b[0m                            Traceback (most recent call last)",
      "Cell \u001b[0;32mIn[12], line 2\u001b[0m\n\u001b[1;32m      1\u001b[0m image \u001b[38;5;241m=\u001b[39m cv2\u001b[38;5;241m.\u001b[39mimread(\u001b[38;5;124m'\u001b[39m\u001b[38;5;124mpath/to/your/image.jpg\u001b[39m\u001b[38;5;124m'\u001b[39m)\n\u001b[0;32m----> 2\u001b[0m \u001b[43mimage\u001b[49m\u001b[38;5;241;43m.\u001b[39;49m\u001b[43mshape\u001b[49m\n",
      "\u001b[0;31mAttributeError\u001b[0m: 'NoneType' object has no attribute 'shape'"
     ]
    }
   ],
   "source": [
    "image = cv2.imread('path/to/your/image.jpg')\n",
    "image.shape"
   ]
  }
 ],
 "metadata": {
  "kernelspec": {
   "display_name": "Python 3 (ipykernel)",
   "language": "python",
   "name": "python3"
  },
  "language_info": {
   "codemirror_mode": {
    "name": "ipython",
    "version": 3
   },
   "file_extension": ".py",
   "mimetype": "text/x-python",
   "name": "python",
   "nbconvert_exporter": "python",
   "pygments_lexer": "ipython3",
   "version": "3.8.19"
  }
 },
 "nbformat": 4,
 "nbformat_minor": 5
}
