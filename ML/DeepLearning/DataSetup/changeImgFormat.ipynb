{
 "cells": [
  {
   "cell_type": "markdown",
   "id": "1cc0bf9d-4535-4e9e-bf99-d55b270c74a1",
   "metadata": {},
   "source": [
    "# Change image to shape (320, 240)"
   ]
  },
  {
   "cell_type": "code",
   "execution_count": 2,
   "id": "dea7bd57-ba99-4b81-a83d-80a11adce5d2",
   "metadata": {},
   "outputs": [
    {
     "name": "stdout",
     "output_type": "stream",
     "text": [
      "loading annotations into memory...\n",
      "Done (t=0.00s)\n",
      "creating index...\n",
      "index created!\n",
      "Total image IDs: 278\n",
      "Resizing and saving completed.\n"
     ]
    }
   ],
   "source": [
    "import os\n",
    "import cv2\n",
    "from pycocotools.coco import COCO\n",
    "\n",
    "# Paths\n",
    "annotation_file = 'annotations/instances_default.json'\n",
    "image_dir = 'dataset/Train'\n",
    "resized_image_dir = 'resized_dataset/Train'\n",
    "target_size = (320, 240)\n",
    "\n",
    "# Load COCO annotations\n",
    "coco = COCO(annotation_file)\n",
    "\n",
    "# Get image IDs\n",
    "img_ids = coco.getImgIds()\n",
    "image_id_length = len(img_ids)\n",
    "print(\"Total image IDs:\", image_id_length)\n",
    "\n",
    "# Create the directory if it doesn't exist\n",
    "os.makedirs(resized_image_dir, exist_ok=True)\n",
    "\n",
    "# Loop through each image ID, resize the image, and save it to the new directory\n",
    "for i in range(image_id_length):\n",
    "    img_info = coco.loadImgs(img_ids[i])[0]\n",
    "    image_path = os.path.join(image_dir, img_info['file_name'])\n",
    "    original_image = cv2.imread(image_path)\n",
    "    \n",
    "    if original_image is not None:\n",
    "        # Convert to RGB\n",
    "        original_image_rgb = cv2.cvtColor(original_image, cv2.COLOR_BGR2RGB)\n",
    "        # Resize the image\n",
    "        resized_image = cv2.resize(original_image_rgb, target_size)\n",
    "        # Save the resized image to the new directory with the same filename\n",
    "        resized_image_path = os.path.join(resized_image_dir, img_info['file_name'])\n",
    "        cv2.imwrite(resized_image_path, cv2.cvtColor(resized_image, cv2.COLOR_RGB2BGR))\n",
    "    else:\n",
    "        print(f\"Could not read image {image_path}\")\n",
    "\n",
    "print(\"Resizing and saving completed.\")\n"
   ]
  },
  {
   "cell_type": "code",
   "execution_count": 3,
   "id": "55fcb08f-bd7c-4f66-88f7-42da14e58177",
   "metadata": {},
   "outputs": [
    {
     "name": "stdout",
     "output_type": "stream",
     "text": [
      "New shape: (240, 320, 3)\n"
     ]
    }
   ],
   "source": [
    "print(f\"New shape: {cv2.imread('resized_dataset/Train/09_48_03_darkest.jpg').shape}\")"
   ]
  }
 ],
 "metadata": {
  "kernelspec": {
   "display_name": "Python 3 (ipykernel)",
   "language": "python",
   "name": "python3"
  },
  "language_info": {
   "codemirror_mode": {
    "name": "ipython",
    "version": 3
   },
   "file_extension": ".py",
   "mimetype": "text/x-python",
   "name": "python",
   "nbconvert_exporter": "python",
   "pygments_lexer": "ipython3",
   "version": "3.8.19"
  }
 },
 "nbformat": 4,
 "nbformat_minor": 5
}
